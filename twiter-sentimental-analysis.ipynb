{
 "cells": [
  {
   "cell_type": "markdown",
   "id": "40fceefe",
   "metadata": {
    "papermill": {
     "duration": 0.010805,
     "end_time": "2023-04-07T17:07:27.908405",
     "exception": false,
     "start_time": "2023-04-07T17:07:27.897600",
     "status": "completed"
    },
    "tags": []
   },
   "source": [
    "**In this project we will analyse the sentiment in twitter bassed on people tweet and Many companies use the insights from sentiment analysis to improve customer service and increase brand reputation.**"
   ]
  },
  {
   "cell_type": "markdown",
   "id": "cd8fce57",
   "metadata": {
    "papermill": {
     "duration": 0.009056,
     "end_time": "2023-04-07T17:07:27.927077",
     "exception": false,
     "start_time": "2023-04-07T17:07:27.918021",
     "status": "completed"
    },
    "tags": []
   },
   "source": [
    "**we want to install Tweepy because it will access twitter and get details**"
   ]
  },
  {
   "cell_type": "code",
   "execution_count": 1,
   "id": "1d034cc0",
   "metadata": {
    "execution": {
     "iopub.execute_input": "2023-04-07T17:07:27.948965Z",
     "iopub.status.busy": "2023-04-07T17:07:27.948208Z",
     "iopub.status.idle": "2023-04-07T17:07:40.705317Z",
     "shell.execute_reply": "2023-04-07T17:07:40.703465Z"
    },
    "papermill": {
     "duration": 12.771273,
     "end_time": "2023-04-07T17:07:40.708372",
     "exception": false,
     "start_time": "2023-04-07T17:07:27.937099",
     "status": "completed"
    },
    "tags": []
   },
   "outputs": [
    {
     "name": "stdout",
     "output_type": "stream",
     "text": [
      "Collecting Tweepy\r\n",
      "  Downloading tweepy-4.13.0-py3-none-any.whl (102 kB)\r\n",
      "\u001b[2K     \u001b[90m━━━━━━━━━━━━━━━━━━━━━━━━━━━━━━━━━━━━━━━\u001b[0m \u001b[32m102.8/102.8 kB\u001b[0m \u001b[31m6.9 MB/s\u001b[0m eta \u001b[36m0:00:00\u001b[0m\r\n",
      "\u001b[?25hRequirement already satisfied: requests<3,>=2.27.0 in /opt/conda/lib/python3.7/site-packages (from Tweepy) (2.28.2)\r\n",
      "Requirement already satisfied: oauthlib<4,>=3.2.0 in /opt/conda/lib/python3.7/site-packages (from Tweepy) (3.2.2)\r\n",
      "Requirement already satisfied: requests-oauthlib<2,>=1.2.0 in /opt/conda/lib/python3.7/site-packages (from Tweepy) (1.3.1)\r\n",
      "Requirement already satisfied: idna<4,>=2.5 in /opt/conda/lib/python3.7/site-packages (from requests<3,>=2.27.0->Tweepy) (3.4)\r\n",
      "Requirement already satisfied: certifi>=2017.4.17 in /opt/conda/lib/python3.7/site-packages (from requests<3,>=2.27.0->Tweepy) (2022.12.7)\r\n",
      "Requirement already satisfied: urllib3<1.27,>=1.21.1 in /opt/conda/lib/python3.7/site-packages (from requests<3,>=2.27.0->Tweepy) (1.26.14)\r\n",
      "Requirement already satisfied: charset-normalizer<4,>=2 in /opt/conda/lib/python3.7/site-packages (from requests<3,>=2.27.0->Tweepy) (2.1.1)\r\n",
      "Installing collected packages: Tweepy\r\n",
      "Successfully installed Tweepy-4.13.0\r\n",
      "\u001b[33mWARNING: Running pip as the 'root' user can result in broken permissions and conflicting behaviour with the system package manager. It is recommended to use a virtual environment instead: https://pip.pypa.io/warnings/venv\u001b[0m\u001b[33m\r\n",
      "\u001b[0mNote: you may need to restart the kernel to use updated packages.\n"
     ]
    }
   ],
   "source": [
    "pip install Tweepy"
   ]
  },
  {
   "cell_type": "markdown",
   "id": "d23bf5af",
   "metadata": {
    "papermill": {
     "duration": 0.011386,
     "end_time": "2023-04-07T17:07:40.730333",
     "exception": false,
     "start_time": "2023-04-07T17:07:40.718947",
     "status": "completed"
    },
    "tags": []
   },
   "source": [
    "**import necessary library for this sentimental analysis**"
   ]
  },
  {
   "cell_type": "code",
   "execution_count": 2,
   "id": "4f4b5994",
   "metadata": {
    "execution": {
     "iopub.execute_input": "2023-04-07T17:07:40.754419Z",
     "iopub.status.busy": "2023-04-07T17:07:40.753938Z",
     "iopub.status.idle": "2023-04-07T17:07:42.664470Z",
     "shell.execute_reply": "2023-04-07T17:07:42.663035Z"
    },
    "papermill": {
     "duration": 1.925531,
     "end_time": "2023-04-07T17:07:42.667393",
     "exception": false,
     "start_time": "2023-04-07T17:07:40.741862",
     "status": "completed"
    },
    "tags": []
   },
   "outputs": [],
   "source": [
    "import tweepy\n",
    "from textblob import TextBlob\n",
    "import pandas as pd\n",
    "import numpy as np\n",
    "import re\n",
    "import matplotlib.pyplot as plt\n"
   ]
  },
  {
   "cell_type": "markdown",
   "id": "ec74dfc9",
   "metadata": {
    "papermill": {
     "duration": 0.009797,
     "end_time": "2023-04-07T17:07:42.687438",
     "exception": false,
     "start_time": "2023-04-07T17:07:42.677641",
     "status": "completed"
    },
    "tags": []
   },
   "source": [
    "**In excel stored access keys for twitter**"
   ]
  },
  {
   "cell_type": "code",
   "execution_count": 3,
   "id": "6eccedbb",
   "metadata": {
    "execution": {
     "iopub.execute_input": "2023-04-07T17:07:42.709864Z",
     "iopub.status.busy": "2023-04-07T17:07:42.708761Z",
     "iopub.status.idle": "2023-04-07T17:07:43.116226Z",
     "shell.execute_reply": "2023-04-07T17:07:43.114852Z"
    },
    "papermill": {
     "duration": 0.421548,
     "end_time": "2023-04-07T17:07:43.118910",
     "exception": false,
     "start_time": "2023-04-07T17:07:42.697362",
     "status": "completed"
    },
    "tags": []
   },
   "outputs": [
    {
     "data": {
      "text/html": [
       "<div>\n",
       "<style scoped>\n",
       "    .dataframe tbody tr th:only-of-type {\n",
       "        vertical-align: middle;\n",
       "    }\n",
       "\n",
       "    .dataframe tbody tr th {\n",
       "        vertical-align: top;\n",
       "    }\n",
       "\n",
       "    .dataframe thead th {\n",
       "        text-align: right;\n",
       "    }\n",
       "</style>\n",
       "<table border=\"1\" class=\"dataframe\">\n",
       "  <thead>\n",
       "    <tr style=\"text-align: right;\">\n",
       "      <th></th>\n",
       "      <th>twitterApiKey</th>\n",
       "      <th>twitterApiSecret</th>\n",
       "      <th>twitterApiAccessToken</th>\n",
       "      <th>twitterApiAccessTokenSecret</th>\n",
       "    </tr>\n",
       "  </thead>\n",
       "  <tbody>\n",
       "    <tr>\n",
       "      <th>0</th>\n",
       "      <td>JVWwfHwPBzLoDc2DfFaFL5gmU</td>\n",
       "      <td>AeMHhW4ORfwU1nb8eWJg4PP7P8kULKOUPn37nrWFeH1E2W...</td>\n",
       "      <td>2943199105-fvKLhg03gbnMPTBAfMyiDWo8fm574aVsnAc...</td>\n",
       "      <td>Iu7NIQYPaXGURY8aeVVozGyV4QQOXZOYOrROp6Ad3641D</td>\n",
       "    </tr>\n",
       "  </tbody>\n",
       "</table>\n",
       "</div>"
      ],
      "text/plain": [
       "               twitterApiKey  \\\n",
       "0  JVWwfHwPBzLoDc2DfFaFL5gmU   \n",
       "\n",
       "                                    twitterApiSecret  \\\n",
       "0  AeMHhW4ORfwU1nb8eWJg4PP7P8kULKOUPn37nrWFeH1E2W...   \n",
       "\n",
       "                               twitterApiAccessToken  \\\n",
       "0  2943199105-fvKLhg03gbnMPTBAfMyiDWo8fm574aVsnAc...   \n",
       "\n",
       "                     twitterApiAccessTokenSecret  \n",
       "0  Iu7NIQYPaXGURY8aeVVozGyV4QQOXZOYOrROp6Ad3641D  "
      ]
     },
     "execution_count": 3,
     "metadata": {},
     "output_type": "execute_result"
    }
   ],
   "source": [
    "config=pd.read_excel(r\"/kaggle/input/config/config.csv.xlsx\")\n",
    "config"
   ]
  },
  {
   "cell_type": "code",
   "execution_count": 4,
   "id": "cd90c775",
   "metadata": {
    "execution": {
     "iopub.execute_input": "2023-04-07T17:07:43.142070Z",
     "iopub.status.busy": "2023-04-07T17:07:43.141011Z",
     "iopub.status.idle": "2023-04-07T17:07:43.151012Z",
     "shell.execute_reply": "2023-04-07T17:07:43.149538Z"
    },
    "papermill": {
     "duration": 0.024549,
     "end_time": "2023-04-07T17:07:43.153721",
     "exception": false,
     "start_time": "2023-04-07T17:07:43.129172",
     "status": "completed"
    },
    "tags": []
   },
   "outputs": [],
   "source": [
    "twitterApiKey=config['twitterApiKey'][0]\n",
    "twitterApiSecret=config['twitterApiSecret'][0]\n",
    "twitterApiAccessToken=config['twitterApiAccessToken'][0]\n",
    "twitterApiAccessTokenSecret=config['twitterApiAccessTokenSecret'][0]     #use this keys to access the twitter account"
   ]
  },
  {
   "cell_type": "markdown",
   "id": "227497e6",
   "metadata": {
    "papermill": {
     "duration": 0.010207,
     "end_time": "2023-04-07T17:07:43.174134",
     "exception": false,
     "start_time": "2023-04-07T17:07:43.163927",
     "status": "completed"
    },
    "tags": []
   },
   "source": [
    "**check the authentication**"
   ]
  },
  {
   "cell_type": "code",
   "execution_count": 5,
   "id": "dbc336b1",
   "metadata": {
    "execution": {
     "iopub.execute_input": "2023-04-07T17:07:43.196750Z",
     "iopub.status.busy": "2023-04-07T17:07:43.196300Z",
     "iopub.status.idle": "2023-04-07T17:07:43.203092Z",
     "shell.execute_reply": "2023-04-07T17:07:43.201855Z"
    },
    "papermill": {
     "duration": 0.021345,
     "end_time": "2023-04-07T17:07:43.205753",
     "exception": false,
     "start_time": "2023-04-07T17:07:43.184408",
     "status": "completed"
    },
    "tags": []
   },
   "outputs": [],
   "source": [
    "auth=tweepy.OAuth1UserHandler(twitterApiKey,twitterApiSecret)\n",
    "auth.set_access_token(twitterApiAccessToken,twitterApiAccessTokenSecret)\n",
    "twitterApi=tweepy.API(auth,wait_on_rate_limit=True)"
   ]
  },
  {
   "cell_type": "markdown",
   "id": "70295137",
   "metadata": {
    "papermill": {
     "duration": 0.0102,
     "end_time": "2023-04-07T17:07:43.226225",
     "exception": false,
     "start_time": "2023-04-07T17:07:43.216025",
     "status": "completed"
    },
    "tags": []
   },
   "source": [
    "**process for retrieving details from twitter for analysis**"
   ]
  },
  {
   "cell_type": "code",
   "execution_count": 6,
   "id": "4b4df317",
   "metadata": {
    "execution": {
     "iopub.execute_input": "2023-04-07T17:07:43.248760Z",
     "iopub.status.busy": "2023-04-07T17:07:43.248286Z",
     "iopub.status.idle": "2023-04-07T17:07:43.260907Z",
     "shell.execute_reply": "2023-04-07T17:07:43.259459Z"
    },
    "papermill": {
     "duration": 0.027363,
     "end_time": "2023-04-07T17:07:43.263716",
     "exception": false,
     "start_time": "2023-04-07T17:07:43.236353",
     "status": "completed"
    },
    "tags": []
   },
   "outputs": [],
   "source": [
    "def scrape(words, date_since, numtweet):               \n",
    " \n",
    "      \n",
    "        db = pd.DataFrame(columns=['username',                          #create the columns for the mentioned names\n",
    "                                   'description',\n",
    "                                   'location',\n",
    "                                   'following',\n",
    "                                   'followers',\n",
    "                                   'totaltweets',\n",
    "                                   'retweetcount',\n",
    "                                   'text',\n",
    "                                   'hashtags'])\n",
    " \n",
    "        tweets = tweepy.Cursor(twitterApi.search_tweets,                            #use Cursor method to get the required tweet\n",
    "                               words, lang=\"en\",\n",
    "                               since_id=date_since,\n",
    "                               tweet_mode='extended').items(numtweet)\n",
    " \n",
    " \n",
    "\n",
    "        list_tweets = [tweet for tweet in tweets]                     #iterate the tweets and stored in list\n",
    "\n",
    "        i = 1\n",
    " \n",
    "   \n",
    "        for tweet in list_tweets:                                            #Iterate the list and stored the mentioned column names\n",
    "                username = tweet.user.screen_name\n",
    "                description = tweet.user.description \n",
    "                location = tweet.user.location\n",
    "                following = tweet.user.friends_count\n",
    "                followers = tweet.user.followers_count\n",
    "                totaltweets = tweet.user.statuses_count\n",
    "                retweetcount = tweet.retweet_count\n",
    "                hashtags = tweet.entities['hashtags']\n",
    " \n",
    "    \n",
    "                try:\n",
    "                        text = tweet.retweeted_status.full_text                #in case any invalid reference execute the except comment\n",
    "                except AttributeError:\n",
    "                        text = tweet.full_text\n",
    "                hashtext = list()\n",
    "                for j in range(0, len(hashtags)):\n",
    "                        hashtext.append(hashtags[j]['text'])\n",
    " \n",
    "    \n",
    "                ith_tweet = [username, description,\n",
    "                             location, following,\n",
    "                             followers, totaltweets,\n",
    "                             retweetcount, text, hashtext]\n",
    "                db.loc[len(db)] = ith_tweet\n",
    " \n",
    "\n",
    "             \n",
    "                i = i+1\n",
    "        filename = 'tweets_data.csv'               #our collected tweet informations are stored in this file name\n",
    " \n",
    "        db.to_csv(filename)"
   ]
  },
  {
   "cell_type": "markdown",
   "id": "15b711cc",
   "metadata": {
    "papermill": {
     "duration": 0.009972,
     "end_time": "2023-04-07T17:07:43.283876",
     "exception": false,
     "start_time": "2023-04-07T17:07:43.273904",
     "status": "completed"
    },
    "tags": []
   },
   "source": [
    "**pass which details we need from our  our tweet**"
   ]
  },
  {
   "cell_type": "code",
   "execution_count": 7,
   "id": "c65bb0d8",
   "metadata": {
    "execution": {
     "iopub.execute_input": "2023-04-07T17:07:43.306511Z",
     "iopub.status.busy": "2023-04-07T17:07:43.306073Z",
     "iopub.status.idle": "2023-04-07T17:07:56.399200Z",
     "shell.execute_reply": "2023-04-07T17:07:56.397939Z"
    },
    "papermill": {
     "duration": 13.108203,
     "end_time": "2023-04-07T17:07:56.402166",
     "exception": false,
     "start_time": "2023-04-07T17:07:43.293963",
     "status": "completed"
    },
    "tags": []
   },
   "outputs": [],
   "source": [
    "words = \"pepsi\"                           #we get pepsi details so passed pepsi name\n",
    "date_since = \"2023-1-1\"\n",
    "numtweet = 500                              #we  want 500 tweets \n",
    "scrape(words, date_since, numtweet)             #call the scrape function"
   ]
  },
  {
   "cell_type": "markdown",
   "id": "f107608f",
   "metadata": {
    "papermill": {
     "duration": 0.010632,
     "end_time": "2023-04-07T17:07:56.423106",
     "exception": false,
     "start_time": "2023-04-07T17:07:56.412474",
     "status": "completed"
    },
    "tags": []
   },
   "source": [
    "**Read the stored tweet details using pandas library**"
   ]
  },
  {
   "cell_type": "code",
   "execution_count": 8,
   "id": "995b7a1f",
   "metadata": {
    "execution": {
     "iopub.execute_input": "2023-04-07T17:07:56.445395Z",
     "iopub.status.busy": "2023-04-07T17:07:56.444994Z",
     "iopub.status.idle": "2023-04-07T17:07:56.467121Z",
     "shell.execute_reply": "2023-04-07T17:07:56.465857Z"
    },
    "papermill": {
     "duration": 0.036292,
     "end_time": "2023-04-07T17:07:56.469611",
     "exception": false,
     "start_time": "2023-04-07T17:07:56.433319",
     "status": "completed"
    },
    "tags": []
   },
   "outputs": [
    {
     "data": {
      "text/html": [
       "<div>\n",
       "<style scoped>\n",
       "    .dataframe tbody tr th:only-of-type {\n",
       "        vertical-align: middle;\n",
       "    }\n",
       "\n",
       "    .dataframe tbody tr th {\n",
       "        vertical-align: top;\n",
       "    }\n",
       "\n",
       "    .dataframe thead th {\n",
       "        text-align: right;\n",
       "    }\n",
       "</style>\n",
       "<table border=\"1\" class=\"dataframe\">\n",
       "  <thead>\n",
       "    <tr style=\"text-align: right;\">\n",
       "      <th></th>\n",
       "      <th>Unnamed: 0</th>\n",
       "      <th>username</th>\n",
       "      <th>description</th>\n",
       "      <th>location</th>\n",
       "      <th>following</th>\n",
       "      <th>followers</th>\n",
       "      <th>totaltweets</th>\n",
       "      <th>retweetcount</th>\n",
       "      <th>text</th>\n",
       "      <th>hashtags</th>\n",
       "    </tr>\n",
       "  </thead>\n",
       "  <tbody>\n",
       "    <tr>\n",
       "      <th>0</th>\n",
       "      <td>0</td>\n",
       "      <td>KeySportsTake</td>\n",
       "      <td>Welcome My Take on Everything #1WC #MAGA🇺🇸</td>\n",
       "      <td>Providence, KY</td>\n",
       "      <td>1760</td>\n",
       "      <td>181</td>\n",
       "      <td>6445</td>\n",
       "      <td>0</td>\n",
       "      <td>Well Good @FordCenter is Switching to Pepsi</td>\n",
       "      <td>[]</td>\n",
       "    </tr>\n",
       "    <tr>\n",
       "      <th>1</th>\n",
       "      <td>1</td>\n",
       "      <td>ollarniyan992</td>\n",
       "      <td>European Business University Scholar 20| MScǀU...</td>\n",
       "      <td>Abuja Nigeria</td>\n",
       "      <td>975</td>\n",
       "      <td>203</td>\n",
       "      <td>2202</td>\n",
       "      <td>0</td>\n",
       "      <td>@Rene_noire @Pepsi_Naija @Aquafina May Allah c...</td>\n",
       "      <td>[]</td>\n",
       "    </tr>\n",
       "    <tr>\n",
       "      <th>2</th>\n",
       "      <td>2</td>\n",
       "      <td>Blazing9988</td>\n",
       "      <td>artist with no skill still looking for an art ...</td>\n",
       "      <td>Canada</td>\n",
       "      <td>3009</td>\n",
       "      <td>4344</td>\n",
       "      <td>72316</td>\n",
       "      <td>0</td>\n",
       "      <td>@HaleyJean_Tho *sees a can of Pepsi*\\n\\nPepsi ...</td>\n",
       "      <td>[]</td>\n",
       "    </tr>\n",
       "    <tr>\n",
       "      <th>3</th>\n",
       "      <td>3</td>\n",
       "      <td>sashacall</td>\n",
       "      <td>グラブル GENSHIN 🍡🧋  | Do not DM about repost/repr...</td>\n",
       "      <td>NaN</td>\n",
       "      <td>870</td>\n",
       "      <td>75708</td>\n",
       "      <td>122147</td>\n",
       "      <td>0</td>\n",
       "      <td>the way alear walk is so goofy you go funky as...</td>\n",
       "      <td>[]</td>\n",
       "    </tr>\n",
       "    <tr>\n",
       "      <th>4</th>\n",
       "      <td>4</td>\n",
       "      <td>StealthAy_</td>\n",
       "      <td>🇮🇪 | Div 2 comp Splatoon | ex comp Fraymakers ...</td>\n",
       "      <td>NaN</td>\n",
       "      <td>735</td>\n",
       "      <td>58</td>\n",
       "      <td>382</td>\n",
       "      <td>0</td>\n",
       "      <td>@origamigoose_ @Heidi__939 I use pepsi sometimes</td>\n",
       "      <td>[]</td>\n",
       "    </tr>\n",
       "  </tbody>\n",
       "</table>\n",
       "</div>"
      ],
      "text/plain": [
       "   Unnamed: 0       username  \\\n",
       "0           0  KeySportsTake   \n",
       "1           1  ollarniyan992   \n",
       "2           2    Blazing9988   \n",
       "3           3      sashacall   \n",
       "4           4     StealthAy_   \n",
       "\n",
       "                                         description        location  \\\n",
       "0         Welcome My Take on Everything #1WC #MAGA🇺🇸  Providence, KY   \n",
       "1  European Business University Scholar 20| MScǀU...   Abuja Nigeria   \n",
       "2  artist with no skill still looking for an art ...          Canada   \n",
       "3  グラブル GENSHIN 🍡🧋  | Do not DM about repost/repr...             NaN   \n",
       "4  🇮🇪 | Div 2 comp Splatoon | ex comp Fraymakers ...             NaN   \n",
       "\n",
       "   following  followers  totaltweets  retweetcount  \\\n",
       "0       1760        181         6445             0   \n",
       "1        975        203         2202             0   \n",
       "2       3009       4344        72316             0   \n",
       "3        870      75708       122147             0   \n",
       "4        735         58          382             0   \n",
       "\n",
       "                                                text hashtags  \n",
       "0        Well Good @FordCenter is Switching to Pepsi       []  \n",
       "1  @Rene_noire @Pepsi_Naija @Aquafina May Allah c...       []  \n",
       "2  @HaleyJean_Tho *sees a can of Pepsi*\\n\\nPepsi ...       []  \n",
       "3  the way alear walk is so goofy you go funky as...       []  \n",
       "4   @origamigoose_ @Heidi__939 I use pepsi sometimes       []  "
      ]
     },
     "execution_count": 8,
     "metadata": {},
     "output_type": "execute_result"
    }
   ],
   "source": [
    "Table = pd.read_csv('tweets_data.csv')\n",
    "Table.head(5)"
   ]
  },
  {
   "cell_type": "markdown",
   "id": "b6683c07",
   "metadata": {
    "papermill": {
     "duration": 0.010175,
     "end_time": "2023-04-07T17:07:56.490793",
     "exception": false,
     "start_time": "2023-04-07T17:07:56.480618",
     "status": "completed"
    },
    "tags": []
   },
   "source": [
    "**Clean the text column so ,no interept doing analyse**"
   ]
  },
  {
   "cell_type": "code",
   "execution_count": 9,
   "id": "95b80aa7",
   "metadata": {
    "execution": {
     "iopub.execute_input": "2023-04-07T17:07:56.514281Z",
     "iopub.status.busy": "2023-04-07T17:07:56.513445Z",
     "iopub.status.idle": "2023-04-07T17:07:56.525494Z",
     "shell.execute_reply": "2023-04-07T17:07:56.524255Z"
    },
    "papermill": {
     "duration": 0.026985,
     "end_time": "2023-04-07T17:07:56.528416",
     "exception": false,
     "start_time": "2023-04-07T17:07:56.501431",
     "status": "completed"
    },
    "tags": []
   },
   "outputs": [],
   "source": [
    "def Clean_text(text):\n",
    "    text = re.sub(r'@[A-Za-z0-9]+', '',text)\n",
    "    text = re.sub(r'#', '',text)\n",
    "    text = re.sub(r'RT[\\s]+', '',text)\n",
    "    text = re.sub(r'https?:\\/\\/\\S+', '',text)\n",
    "    return text\n",
    "\n",
    "Table['text'] = Table['text'].apply(Clean_text)"
   ]
  },
  {
   "cell_type": "markdown",
   "id": "61bc6d02",
   "metadata": {
    "papermill": {
     "duration": 0.010281,
     "end_time": "2023-04-07T17:07:56.549812",
     "exception": false,
     "start_time": "2023-04-07T17:07:56.539531",
     "status": "completed"
    },
    "tags": []
   },
   "source": [
    "**Remove the empy values ,so not get any confusion during analyse**"
   ]
  },
  {
   "cell_type": "code",
   "execution_count": 10,
   "id": "e78efa0c",
   "metadata": {
    "execution": {
     "iopub.execute_input": "2023-04-07T17:07:56.573492Z",
     "iopub.status.busy": "2023-04-07T17:07:56.572610Z",
     "iopub.status.idle": "2023-04-07T17:07:56.581830Z",
     "shell.execute_reply": "2023-04-07T17:07:56.580762Z"
    },
    "papermill": {
     "duration": 0.024389,
     "end_time": "2023-04-07T17:07:56.584816",
     "exception": false,
     "start_time": "2023-04-07T17:07:56.560427",
     "status": "completed"
    },
    "tags": []
   },
   "outputs": [],
   "source": [
    "Table=Table.drop(Table[Table['text']==''].index)"
   ]
  },
  {
   "cell_type": "markdown",
   "id": "9ac4d387",
   "metadata": {
    "papermill": {
     "duration": 0.010233,
     "end_time": "2023-04-07T17:07:56.606115",
     "exception": false,
     "start_time": "2023-04-07T17:07:56.595882",
     "status": "completed"
    },
    "tags": []
   },
   "source": [
    "**For sentimental analyse we use sentiment subjectivity and polarity**"
   ]
  },
  {
   "cell_type": "code",
   "execution_count": 11,
   "id": "17e63310",
   "metadata": {
    "execution": {
     "iopub.execute_input": "2023-04-07T17:07:56.629911Z",
     "iopub.status.busy": "2023-04-07T17:07:56.629039Z",
     "iopub.status.idle": "2023-04-07T17:07:56.635342Z",
     "shell.execute_reply": "2023-04-07T17:07:56.634368Z"
    },
    "papermill": {
     "duration": 0.021418,
     "end_time": "2023-04-07T17:07:56.638068",
     "exception": false,
     "start_time": "2023-04-07T17:07:56.616650",
     "status": "completed"
    },
    "tags": []
   },
   "outputs": [],
   "source": [
    "def gettextsubject(txt):\n",
    "    return TextBlob(txt).sentiment.subjectivity  \n",
    "def gettextpolarity(txt):\n",
    "    return TextBlob(txt).sentiment.polarity              #it find the thought based on tweets"
   ]
  },
  {
   "cell_type": "markdown",
   "id": "f0684c5a",
   "metadata": {
    "papermill": {
     "duration": 0.010231,
     "end_time": "2023-04-07T17:07:56.659042",
     "exception": false,
     "start_time": "2023-04-07T17:07:56.648811",
     "status": "completed"
    },
    "tags": []
   },
   "source": [
    "**call the funcions**"
   ]
  },
  {
   "cell_type": "code",
   "execution_count": 12,
   "id": "94abfd62",
   "metadata": {
    "execution": {
     "iopub.execute_input": "2023-04-07T17:07:56.682247Z",
     "iopub.status.busy": "2023-04-07T17:07:56.681831Z",
     "iopub.status.idle": "2023-04-07T17:07:57.052749Z",
     "shell.execute_reply": "2023-04-07T17:07:57.051599Z"
    },
    "papermill": {
     "duration": 0.386123,
     "end_time": "2023-04-07T17:07:57.055676",
     "exception": false,
     "start_time": "2023-04-07T17:07:56.669553",
     "status": "completed"
    },
    "tags": []
   },
   "outputs": [],
   "source": [
    "Table['subjectivity']=Table['text'].apply(gettextsubject)\n",
    "Table['polarity']=Table['text'].apply(gettextpolarity)"
   ]
  },
  {
   "cell_type": "markdown",
   "id": "576abda1",
   "metadata": {
    "papermill": {
     "duration": 0.010199,
     "end_time": "2023-04-07T17:07:57.076489",
     "exception": false,
     "start_time": "2023-04-07T17:07:57.066290",
     "status": "completed"
    },
    "tags": []
   },
   "source": [
    "**use function to assighn people reaction column**"
   ]
  },
  {
   "cell_type": "code",
   "execution_count": 13,
   "id": "dc7cbaf2",
   "metadata": {
    "execution": {
     "iopub.execute_input": "2023-04-07T17:07:57.099303Z",
     "iopub.status.busy": "2023-04-07T17:07:57.098878Z",
     "iopub.status.idle": "2023-04-07T17:07:57.107116Z",
     "shell.execute_reply": "2023-04-07T17:07:57.106094Z"
    },
    "papermill": {
     "duration": 0.022418,
     "end_time": "2023-04-07T17:07:57.109485",
     "exception": false,
     "start_time": "2023-04-07T17:07:57.087067",
     "status": "completed"
    },
    "tags": []
   },
   "outputs": [],
   "source": [
    "def analyse(a):\n",
    "    if a<0:\n",
    "        return \"NEGATIVE\"\n",
    "    elif a==0:\n",
    "        return \"NEUTRAL\"\n",
    "    else:\n",
    "        return \"POSSITIVE\"\n",
    "\n",
    "Table[\"Reaction\"]=Table['polarity'].apply(analyse)"
   ]
  },
  {
   "cell_type": "markdown",
   "id": "52331daa",
   "metadata": {
    "papermill": {
     "duration": 0.010207,
     "end_time": "2023-04-07T17:07:57.130260",
     "exception": false,
     "start_time": "2023-04-07T17:07:57.120053",
     "status": "completed"
    },
    "tags": []
   },
   "source": [
    "**calculate the percentage of possitive reaction**"
   ]
  },
  {
   "cell_type": "code",
   "execution_count": 14,
   "id": "918aee30",
   "metadata": {
    "execution": {
     "iopub.execute_input": "2023-04-07T17:07:57.153598Z",
     "iopub.status.busy": "2023-04-07T17:07:57.152902Z",
     "iopub.status.idle": "2023-04-07T17:07:57.161822Z",
     "shell.execute_reply": "2023-04-07T17:07:57.160150Z"
    },
    "papermill": {
     "duration": 0.023315,
     "end_time": "2023-04-07T17:07:57.164185",
     "exception": false,
     "start_time": "2023-04-07T17:07:57.140870",
     "status": "completed"
    },
    "tags": []
   },
   "outputs": [
    {
     "name": "stdout",
     "output_type": "stream",
     "text": [
      "42% of possitve tweets\n"
     ]
    }
   ],
   "source": [
    "positive=Table[Table['Reaction']==\"POSSITIVE\"]\n",
    "print(str(round(positive.shape[0]/(Table.shape[0])*100))+\"% of possitve tweets\")"
   ]
  },
  {
   "cell_type": "markdown",
   "id": "7f3c60a0",
   "metadata": {
    "papermill": {
     "duration": 0.010272,
     "end_time": "2023-04-07T17:07:57.185309",
     "exception": false,
     "start_time": "2023-04-07T17:07:57.175037",
     "status": "completed"
    },
    "tags": []
   },
   "source": [
    "**calculate the percentage of neutral reaction**"
   ]
  },
  {
   "cell_type": "code",
   "execution_count": 15,
   "id": "b0a20fe1",
   "metadata": {
    "execution": {
     "iopub.execute_input": "2023-04-07T17:07:57.208612Z",
     "iopub.status.busy": "2023-04-07T17:07:57.208162Z",
     "iopub.status.idle": "2023-04-07T17:07:57.216915Z",
     "shell.execute_reply": "2023-04-07T17:07:57.215365Z"
    },
    "papermill": {
     "duration": 0.023238,
     "end_time": "2023-04-07T17:07:57.219207",
     "exception": false,
     "start_time": "2023-04-07T17:07:57.195969",
     "status": "completed"
    },
    "tags": []
   },
   "outputs": [
    {
     "name": "stdout",
     "output_type": "stream",
     "text": [
      "37% of NEUTRAL tweets\n"
     ]
    }
   ],
   "source": [
    "Neutral=Table[Table['Reaction']==\"NEUTRAL\"]\n",
    "print(str(round(Neutral.shape[0]/(Table.shape[0])*100))+\"% of NEUTRAL tweets\")"
   ]
  },
  {
   "cell_type": "markdown",
   "id": "55d649fe",
   "metadata": {
    "papermill": {
     "duration": 0.010776,
     "end_time": "2023-04-07T17:07:57.241339",
     "exception": false,
     "start_time": "2023-04-07T17:07:57.230563",
     "status": "completed"
    },
    "tags": []
   },
   "source": [
    "**calculate the percentage of negative reaction**"
   ]
  },
  {
   "cell_type": "code",
   "execution_count": 16,
   "id": "d2292a2c",
   "metadata": {
    "execution": {
     "iopub.execute_input": "2023-04-07T17:07:57.265574Z",
     "iopub.status.busy": "2023-04-07T17:07:57.264847Z",
     "iopub.status.idle": "2023-04-07T17:07:57.272317Z",
     "shell.execute_reply": "2023-04-07T17:07:57.270930Z"
    },
    "papermill": {
     "duration": 0.022488,
     "end_time": "2023-04-07T17:07:57.274634",
     "exception": false,
     "start_time": "2023-04-07T17:07:57.252146",
     "status": "completed"
    },
    "tags": []
   },
   "outputs": [
    {
     "name": "stdout",
     "output_type": "stream",
     "text": [
      "21% of possitve tweets\n"
     ]
    }
   ],
   "source": [
    "Negative=Table[Table['Reaction']==\"NEGATIVE\"]\n",
    "print(str(round(Negative.shape[0]/(Table.shape[0])*100))+\"% of possitve tweets\")"
   ]
  },
  {
   "cell_type": "markdown",
   "id": "499acbb5",
   "metadata": {
    "papermill": {
     "duration": 0.010282,
     "end_time": "2023-04-07T17:07:57.295649",
     "exception": false,
     "start_time": "2023-04-07T17:07:57.285367",
     "status": "completed"
    },
    "tags": []
   },
   "source": [
    "**Plot chart for people ecpression using seaborn library**"
   ]
  },
  {
   "cell_type": "code",
   "execution_count": 17,
   "id": "889e27e3",
   "metadata": {
    "execution": {
     "iopub.execute_input": "2023-04-07T17:07:57.319811Z",
     "iopub.status.busy": "2023-04-07T17:07:57.319019Z",
     "iopub.status.idle": "2023-04-07T17:07:57.598032Z",
     "shell.execute_reply": "2023-04-07T17:07:57.596747Z"
    },
    "papermill": {
     "duration": 0.294204,
     "end_time": "2023-04-07T17:07:57.600482",
     "exception": false,
     "start_time": "2023-04-07T17:07:57.306278",
     "status": "completed"
    },
    "tags": []
   },
   "outputs": [
    {
     "data": {
      "image/png": "[encoded data removed]",
      "text/plain": [
       "<Figure size 800x800 with 1 Axes>"
      ]
     },
     "metadata": {},
     "output_type": "display_data"
    }
   ],
   "source": [
    "plt.figure(figsize=(8,8))       #chart size\n",
    "Table['Reaction'].value_counts().plot.pie(autopct=\"%1.1f%%\")    # pie plot with conditions\n",
    "plt.title('PEOPLE REACTION',fontsize=25)                 #title of this diagram\n",
    "plt.xlabel('',fontsize=15)\n",
    "plt.show()"
   ]
  },
  {
   "cell_type": "markdown",
   "id": "a68d1294",
   "metadata": {
    "papermill": {
     "duration": 0.011032,
     "end_time": "2023-04-07T17:07:57.623545",
     "exception": false,
     "start_time": "2023-04-07T17:07:57.612513",
     "status": "completed"
    },
    "tags": []
   },
   "source": [
    "**Total number of influencer people**"
   ]
  },
  {
   "cell_type": "code",
   "execution_count": 18,
   "id": "544f33bb",
   "metadata": {
    "execution": {
     "iopub.execute_input": "2023-04-07T17:07:57.649041Z",
     "iopub.status.busy": "2023-04-07T17:07:57.647783Z",
     "iopub.status.idle": "2023-04-07T17:07:57.656016Z",
     "shell.execute_reply": "2023-04-07T17:07:57.654964Z"
    },
    "papermill": {
     "duration": 0.023433,
     "end_time": "2023-04-07T17:07:57.658365",
     "exception": false,
     "start_time": "2023-04-07T17:07:57.634932",
     "status": "completed"
    },
    "tags": []
   },
   "outputs": [
    {
     "data": {
      "text/plain": [
       "142"
      ]
     },
     "execution_count": 18,
     "metadata": {},
     "output_type": "execute_result"
    }
   ],
   "source": [
    "Influencer=Table[Table[\"followers\"]>1000]\n",
    "len(Influencer)"
   ]
  },
  {
   "cell_type": "markdown",
   "id": "94ef88c2",
   "metadata": {
    "papermill": {
     "duration": 0.011557,
     "end_time": "2023-04-07T17:07:57.681553",
     "exception": false,
     "start_time": "2023-04-07T17:07:57.669996",
     "status": "completed"
    },
    "tags": []
   },
   "source": [
    "**create column influencer are not based on followers count**"
   ]
  },
  {
   "cell_type": "code",
   "execution_count": 19,
   "id": "f7b9bb62",
   "metadata": {
    "execution": {
     "iopub.execute_input": "2023-04-07T17:07:57.706645Z",
     "iopub.status.busy": "2023-04-07T17:07:57.706216Z",
     "iopub.status.idle": "2023-04-07T17:07:57.713556Z",
     "shell.execute_reply": "2023-04-07T17:07:57.712293Z"
    },
    "papermill": {
     "duration": 0.022957,
     "end_time": "2023-04-07T17:07:57.716075",
     "exception": false,
     "start_time": "2023-04-07T17:07:57.693118",
     "status": "completed"
    },
    "tags": []
   },
   "outputs": [],
   "source": [
    "def popular(a):\n",
    "    if a>1000:\n",
    "        return \"Influencer\"\n",
    "    else:\n",
    "        return \"Normal followers\"\n",
    "Table['Popular']=Table[\"followers\"].apply(popular)"
   ]
  },
  {
   "cell_type": "markdown",
   "id": "9b3b0267",
   "metadata": {
    "papermill": {
     "duration": 0.013305,
     "end_time": "2023-04-07T17:07:57.742384",
     "exception": false,
     "start_time": "2023-04-07T17:07:57.729079",
     "status": "completed"
    },
    "tags": []
   },
   "source": [
    "**chart for influence people**"
   ]
  },
  {
   "cell_type": "code",
   "execution_count": 20,
   "id": "430b401b",
   "metadata": {
    "execution": {
     "iopub.execute_input": "2023-04-07T17:07:57.768955Z",
     "iopub.status.busy": "2023-04-07T17:07:57.767621Z",
     "iopub.status.idle": "2023-04-07T17:07:58.301249Z",
     "shell.execute_reply": "2023-04-07T17:07:58.300066Z"
    },
    "papermill": {
     "duration": 0.549681,
     "end_time": "2023-04-07T17:07:58.304381",
     "exception": false,
     "start_time": "2023-04-07T17:07:57.754700",
     "status": "completed"
    },
    "tags": []
   },
   "outputs": [
    {
     "data": {
      "text/plain": [
       "[Text(0.5, 1.0, 'INFLUENCER LIST')]"
      ]
     },
     "execution_count": 20,
     "metadata": {},
     "output_type": "execute_result"
    },
    {
     "data": {
      "image/png": "[encoded data removed]",
      "text/plain": [
       "<Figure size 800x500 with 1 Axes>"
      ]
     },
     "metadata": {},
     "output_type": "display_data"
    }
   ],
   "source": [
    "import seaborn as sns\n",
    "fig, ax = plt.subplots(figsize=(8, 5))\n",
    "sns.countplot(x='Popular',data=Table,ax=ax).set(title=\"INFLUENCER LIST\")"
   ]
  },
  {
   "cell_type": "markdown",
   "id": "d243e918",
   "metadata": {
    "papermill": {
     "duration": 0.011801,
     "end_time": "2023-04-07T17:07:58.328611",
     "exception": false,
     "start_time": "2023-04-07T17:07:58.316810",
     "status": "completed"
    },
    "tags": []
   },
   "source": [
    "**chart for which location people tweet more**"
   ]
  },
  {
   "cell_type": "code",
   "execution_count": 21,
   "id": "8eb902bd",
   "metadata": {
    "execution": {
     "iopub.execute_input": "2023-04-07T17:07:58.355071Z",
     "iopub.status.busy": "2023-04-07T17:07:58.354614Z",
     "iopub.status.idle": "2023-04-07T17:07:58.771624Z",
     "shell.execute_reply": "2023-04-07T17:07:58.770726Z"
    },
    "papermill": {
     "duration": 0.433215,
     "end_time": "2023-04-07T17:07:58.773966",
     "exception": false,
     "start_time": "2023-04-07T17:07:58.340751",
     "status": "completed"
    },
    "tags": []
   },
   "outputs": [
    {
     "data": {
      "image/png": "[encoded data removed]",
      "text/plain": [
       "<Figure size 1500x1000 with 1 Axes>"
      ]
     },
     "metadata": {},
     "output_type": "display_data"
    }
   ],
   "source": [
    "plt.style.use('Solarize_Light2')                                           #choose style format of  this chart\n",
    "plt.figure(figsize=(15,10))\n",
    "plt.title(\"LOCATION FOR MORE TWEETS\")                                             \n",
    "Table[\"location\"].value_counts().head(20).plot(kind=\"barh\",color=\"b\")    \n",
    "plt.show()"
   ]
  },
  {
   "cell_type": "markdown",
   "id": "09a51391",
   "metadata": {
    "papermill": {
     "duration": 0.012924,
     "end_time": "2023-04-07T17:07:58.800408",
     "exception": false,
     "start_time": "2023-04-07T17:07:58.787484",
     "status": "completed"
    },
    "tags": []
   },
   "source": [
    "**Find the most viral tweet based on retweet count**"
   ]
  },
  {
   "cell_type": "code",
   "execution_count": 22,
   "id": "6cdfed97",
   "metadata": {
    "execution": {
     "iopub.execute_input": "2023-04-07T17:07:58.829071Z",
     "iopub.status.busy": "2023-04-07T17:07:58.828307Z",
     "iopub.status.idle": "2023-04-07T17:07:58.837091Z",
     "shell.execute_reply": "2023-04-07T17:07:58.835857Z"
    },
    "papermill": {
     "duration": 0.026445,
     "end_time": "2023-04-07T17:07:58.840008",
     "exception": false,
     "start_time": "2023-04-07T17:07:58.813563",
     "status": "completed"
    },
    "tags": []
   },
   "outputs": [],
   "source": [
    "Top = Table.sort_values('retweetcount',ascending=False)\n",
    "Top1=Top[['text','retweetcount']].head().copy()"
   ]
  },
  {
   "cell_type": "markdown",
   "id": "5a4c0076",
   "metadata": {
    "papermill": {
     "duration": 0.012988,
     "end_time": "2023-04-07T17:07:58.866458",
     "exception": false,
     "start_time": "2023-04-07T17:07:58.853470",
     "status": "completed"
    },
    "tags": []
   },
   "source": [
    "**List of top 5 viral tweet**"
   ]
  },
  {
   "cell_type": "code",
   "execution_count": 23,
   "id": "bee0e572",
   "metadata": {
    "execution": {
     "iopub.execute_input": "2023-04-07T17:07:58.895756Z",
     "iopub.status.busy": "2023-04-07T17:07:58.895037Z",
     "iopub.status.idle": "2023-04-07T17:07:58.904842Z",
     "shell.execute_reply": "2023-04-07T17:07:58.903340Z"
    },
    "papermill": {
     "duration": 0.027722,
     "end_time": "2023-04-07T17:07:58.907944",
     "exception": false,
     "start_time": "2023-04-07T17:07:58.880222",
     "status": "completed"
    },
    "tags": []
   },
   "outputs": [
    {
     "data": {
      "text/html": [
       "<div>\n",
       "<style scoped>\n",
       "    .dataframe tbody tr th:only-of-type {\n",
       "        vertical-align: middle;\n",
       "    }\n",
       "\n",
       "    .dataframe tbody tr th {\n",
       "        vertical-align: top;\n",
       "    }\n",
       "\n",
       "    .dataframe thead th {\n",
       "        text-align: right;\n",
       "    }\n",
       "</style>\n",
       "<table border=\"1\" class=\"dataframe\">\n",
       "  <thead>\n",
       "    <tr style=\"text-align: right;\">\n",
       "      <th></th>\n",
       "      <th>text</th>\n",
       "      <th>retweetcount</th>\n",
       "    </tr>\n",
       "  </thead>\n",
       "  <tbody>\n",
       "    <tr>\n",
       "      <th>28</th>\n",
       "      <td>goodbye to the pepsi logo whose designer was c...</td>\n",
       "      <td>45504</td>\n",
       "    </tr>\n",
       "    <tr>\n",
       "      <th>201</th>\n",
       "      <td>goodbye to the pepsi logo whose designer was c...</td>\n",
       "      <td>45504</td>\n",
       "    </tr>\n",
       "    <tr>\n",
       "      <th>319</th>\n",
       "      <td>WayV - Phantom (English Ver.) | มีนาคม 2566 | ...</td>\n",
       "      <td>11025</td>\n",
       "    </tr>\n",
       "    <tr>\n",
       "      <th>186</th>\n",
       "      <td>WayV - Phantom (English Ver.) | มีนาคม 2566 | ...</td>\n",
       "      <td>11025</td>\n",
       "    </tr>\n",
       "    <tr>\n",
       "      <th>190</th>\n",
       "      <td>Now, I want to introduce you guys to THE Badde...</td>\n",
       "      <td>3923</td>\n",
       "    </tr>\n",
       "  </tbody>\n",
       "</table>\n",
       "</div>"
      ],
      "text/plain": [
       "                                                  text  retweetcount\n",
       "28   goodbye to the pepsi logo whose designer was c...         45504\n",
       "201  goodbye to the pepsi logo whose designer was c...         45504\n",
       "319  WayV - Phantom (English Ver.) | มีนาคม 2566 | ...         11025\n",
       "186  WayV - Phantom (English Ver.) | มีนาคม 2566 | ...         11025\n",
       "190  Now, I want to introduce you guys to THE Badde...          3923"
      ]
     },
     "execution_count": 23,
     "metadata": {},
     "output_type": "execute_result"
    }
   ],
   "source": [
    "Top1"
   ]
  },
  {
   "cell_type": "markdown",
   "id": "f6e98c91",
   "metadata": {
    "papermill": {
     "duration": 0.013287,
     "end_time": "2023-04-07T17:07:58.934895",
     "exception": false,
     "start_time": "2023-04-07T17:07:58.921608",
     "status": "completed"
    },
    "tags": []
   },
   "source": [
    "**SUMMARY**\n",
    "\n",
    "\n",
    "**Sentiment analysis studies the subjective information in an expression, that is, the opinions, appraisals, emotions, or attitudes towards a topic, person or entity. Expressions can be classified as positive, negative, or neutral.**"
   ]
  }
 ],
 "metadata": {
  "kernelspec": {
   "display_name": "Python 3",
   "language": "python",
   "name": "python3"
  },
  "language_info": {
   "codemirror_mode": {
    "name": "ipython",
    "version": 3
   },
   "file_extension": ".py",
   "mimetype": "text/x-python",
   "name": "python",
   "nbconvert_exporter": "python",
   "pygments_lexer": "ipython3",
   "version": "3.7.12"
  },
  "papermill": {
   "default_parameters": {},
   "duration": 42.83569,
   "end_time": "2023-04-07T17:07:59.872900",
   "environment_variables": {},
   "exception": null,
   "input_path": "__notebook__.ipynb",
   "output_path": "__notebook__.ipynb",
   "parameters": {},
   "start_time": "2023-04-07T17:07:17.037210",
   "version": "2.4.0"
  }
 },
 "nbformat": 4,
 "nbformat_minor": 5
}
